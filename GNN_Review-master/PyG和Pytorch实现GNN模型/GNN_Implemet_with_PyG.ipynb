{
 "cells": [
  {
   "cell_type": "markdown",
   "metadata": {},
   "source": [
    "### 导入包"
   ]
  },
  {
   "cell_type": "code",
   "execution_count": 1,
   "metadata": {},
   "outputs": [],
   "source": [
    "import os\n",
    "import numpy as np\n",
    "from tqdm import tqdm\n",
    "import matplotlib.pyplot as plt\n",
    "\n",
    "import torch\n",
    "import torch.nn as nn\n",
    "import torch.nn.functional as F\n",
    "from torch_geometric.data import Data\n",
    "from torch_geometric.nn import GCNConv\n",
    "from torch_geometric.nn import MessagePassing\n",
    "from torch_geometric.utils import add_self_loops, degree"
   ]
  },
  {
   "cell_type": "markdown",
   "metadata": {},
   "source": [
    "### PyG构建数据集"
   ]
  },
  {
   "cell_type": "code",
   "execution_count": 2,
   "metadata": {},
   "outputs": [
    {
     "name": "stderr",
     "output_type": "stream",
     "text": [
      "100%|██████████| 2708/2708 [00:00<00:00, 2799.36it/s]\n"
     ]
    }
   ],
   "source": [
    "'''\n",
    "生成Graph的节点数据集，使用Cora数据集，以及torch_geometric.data.Data方法，\n",
    "需要参数如下：\n",
    "    x : torch.Tensor, 节点特征矩阵，shape为[num_nodes, num_node_features]\n",
    "    edge_index : LongTensor, Graph的连接矩阵，shape为[2, num_edges]\n",
    "    edge_attr : None, 暂不需要\n",
    "    y : Tensor, 图或节点的标签，shape任意\n",
    "    pos : Tensor, 暂不需要\n",
    "    norm : Tensor, 暂不需要\n",
    "    face : LongTensor, 暂不需要\n",
    "'''\n",
    "content_path = \"./cora/cora.content\"\n",
    "cite_path = \"./cora/cora.cites\"\n",
    "\n",
    "# 读取文本内容\n",
    "with open(content_path, \"r\") as fp:\n",
    "    contents = fp.readlines()\n",
    "with open(cite_path, \"r\") as fp:\n",
    "    cites = fp.readlines()\n",
    "\n",
    "# 边列表\n",
    "cites = list(map(lambda x: x.strip().split(\"\\t\"), cites))\n",
    "\n",
    "# 构建映射字典\n",
    "paper_list, feat_list, label_list = [], [], []\n",
    "for line in tqdm(contents):\n",
    "    tag, *feat, label = line.strip().split(\"\\t\")\n",
    "    paper_list.append(tag)\n",
    "    feat_list.append(np.array(list(map(lambda x: int(x), feat))))\n",
    "    label_list.append(label)\n",
    "# Paper -> Index 字典\n",
    "paper_dict = dict([(key, val) for val, key in enumerate(paper_list)])\n",
    "# Label -> Index 字典\n",
    "label_dict = dict([(key, val) for val, key in enumerate(set(label_list))])\n",
    "# Edge_index构建\n",
    "cites = np.array([[paper_dict[i[0]], paper_dict[i[1]]] for i in cites], \n",
    "                 np.int64).T                                 # (2, edge)\n",
    "cites = np.concatenate((cites, cites[::-1, :]), axis=1)      # (2, 2*edge), 即(2, E)\n",
    "# y 构建\n",
    "y = np.array([label_dict[i] for i in label_list])\n",
    "# Input 构建\n",
    "x = torch.from_numpy(np.array(feat_list, dtype=np.float32))  # [N, Feat_Dim]\n",
    "edge_index = torch.from_numpy(cites)                         # [E, 2]\n",
    "y = torch.from_numpy(y)                               # [N, ]\n",
    "\n",
    "# 构建Data类\n",
    "data = Data(x=x,\n",
    "            edge_index=edge_index,\n",
    "            y=y)\n",
    "# 分割数据集\n",
    "data.train_mask = torch.zeros(data.num_nodes, dtype=torch.uint8)\n",
    "data.train_mask[:data.num_nodes - 1000] = 1                  # 1700左右training\n",
    "data.val_mask = None                                         # 0valid\n",
    "data.test_mask = torch.zeros(data.num_nodes, dtype=torch.uint8)\n",
    "data.test_mask[data.num_nodes - 500:] = 1                    # 500test\n",
    "data.num_classes = len(label_dict)"
   ]
  },
  {
   "cell_type": "markdown",
   "metadata": {},
   "source": [
    "### 打印数据信息"
   ]
  },
  {
   "cell_type": "code",
   "execution_count": 3,
   "metadata": {
    "scrolled": true
   },
   "outputs": [
    {
     "data": {
      "text/plain": [
       "Data(edge_index=[2, 10858], num_classes=[1], test_mask=[2708], train_mask=[2708], x=[2708, 1433], y=[2708])"
      ]
     },
     "execution_count": 3,
     "metadata": {},
     "output_type": "execute_result"
    }
   ],
   "source": [
    "data"
   ]
  },
  {
   "cell_type": "code",
   "execution_count": 4,
   "metadata": {
    "scrolled": true
   },
   "outputs": [
    {
     "name": "stdout",
     "output_type": "stream",
     "text": [
      "********************Data Info********************\n",
      "==> Is undirected graph : True\n",
      "==> Number of edges : 10858/2=5429\n",
      "==> Number of nodes : 2708\n",
      "==> Node feature dim : 1433\n",
      "==> Number of training nodes : 1708\n",
      "==> Number of testing nodes : 500\n",
      "==> Number of classes : 7\n"
     ]
    }
   ],
   "source": [
    "print(\"{}Data Info{}\".format(\"*\"*20, \"*\"*20))\n",
    "print(\"==> Is undirected graph : {}\".format(data.is_undirected()))\n",
    "print(\"==> Number of edges : {}/2={}\".format(data.num_edges, int(data.num_edges/2)))\n",
    "print(\"==> Number of nodes : {}\".format(data.num_nodes))\n",
    "print(\"==> Node feature dim : {}\".format(data.num_node_features))\n",
    "print(\"==> Number of training nodes : {}\".format(data.train_mask.sum().item()))\n",
    "print(\"==> Number of testing nodes : {}\".format(data.test_mask.sum().item()))\n",
    "print(\"==> Number of classes : {}\".format(data.num_classes))"
   ]
  },
  {
   "cell_type": "code",
   "execution_count": 5,
   "metadata": {},
   "outputs": [
    {
     "name": "stdout",
     "output_type": "stream",
     "text": [
      "********************Train Data anf Test Data Info********************\n",
      "==> Label list : \n",
      "    (0, 'Genetic_Algorithms')\n",
      "    (1, 'Neural_Networks')\n",
      "    (2, 'Rule_Learning')\n",
      "    (3, 'Reinforcement_Learning')\n",
      "    (4, 'Probabilistic_Methods')\n",
      "    (5, 'Case_Based')\n",
      "    (6, 'Theory')\n"
     ]
    },
    {
     "data": {
      "text/plain": [
       "Text(0.5, 1.0, 'Test Data Statics')"
      ]
     },
     "execution_count": 5,
     "metadata": {},
     "output_type": "execute_result"
    },
    {
     "data": {
      "image/png": "[encoded data removed]",
      "text/plain": [
       "<Figure size 432x288 with 2 Axes>"
      ]
     },
     "metadata": {
      "needs_background": "light"
     },
     "output_type": "display_data"
    }
   ],
   "source": [
    "print(\"{}Train Data anf Test Data Info{}\".format(\"*\"*20, \"*\"*20))\n",
    "print(\"==> Label list : \"+(\"\\n    {}\"*7).format(*[(i,j) for j,i in label_dict.items()]))\n",
    "inds, nums = np.unique(y[data.train_mask].numpy(), return_counts=True)\n",
    "plt.figure(1)\n",
    "plt.subplot(121)\n",
    "plt.bar(x=inds, height=nums, width=0.8, bottom=0, align='center')\n",
    "plt.xticks(ticks=range(7))\n",
    "plt.xlabel(xlabel=\"Label Index\")\n",
    "plt.ylabel(ylabel=\"Sample Num\")\n",
    "plt.ylim((0, 600))\n",
    "plt.title(label=\"Train Data Statics\")\n",
    "inds, nums = np.unique(y[data.test_mask].numpy(), return_counts=True)\n",
    "plt.subplot(122)\n",
    "plt.bar(x=inds, height=nums, width=0.8, bottom=0, align='center')\n",
    "plt.xticks(ticks=range(7))\n",
    "plt.xlabel(xlabel=\"Label Index\")\n",
    "plt.ylabel(ylabel=\"Sample Num\")\n",
    "plt.ylim((0, 600))\n",
    "plt.title(label=\"Test Data Statics\")"
   ]
  },
  {
   "cell_type": "markdown",
   "metadata": {},
   "source": [
    "### PyG构建GCN"
   ]
  },
  {
   "cell_type": "code",
   "execution_count": 6,
   "metadata": {},
   "outputs": [],
   "source": [
    "'''\n",
    "使用官方教程上的例子，利用MessagePassing类来构建GCN层。\n",
    "初始化阶段：\n",
    "Input :\n",
    "    in_channels : (int)输入的节点特征维度\n",
    "    out_channels : (int)节点输出的特征维度\n",
    "Output :\n",
    "    None\n",
    "\n",
    "forward阶段：\n",
    "Input :\n",
    "    x : (Tensor)输入的节点特征矩阵，shape(N, in_channels)\n",
    "    edge_index : (LongTensor)输入的边矩阵，shape(2, E)\n",
    "Output :\n",
    "    out : (Tensor)输出层的节点logits，shape(N, num_class)\n",
    "'''\n",
    "class GCNConv(MessagePassing):\n",
    "    def __init__(self, in_channels, out_channels):\n",
    "        super(GCNConv, self).__init__(aggr='add')  # \"Add\" aggregation.\n",
    "        self.lin = torch.nn.Linear(in_channels, out_channels)\n",
    "\n",
    "    def forward(self, x, edge_index):\n",
    "        # x has shape [N, in_channels]\n",
    "        # edge_index has shape [2, E]\n",
    "\n",
    "        # Step 1: Add self-loops to the adjacency matrix.\n",
    "        edge_index, _ = add_self_loops(edge_index, num_nodes=x.size(0))\n",
    "\n",
    "        # Step 2: Linearly transform node feature matrix.\n",
    "        x = self.lin(x)  # (N, in_channels) -> (N, out_channels)\n",
    "\n",
    "        # Step 3-5: Start propagating messages.\n",
    "        return self.propagate(edge_index, size=(x.size(0), x.size(0)), x=x)\n",
    "\n",
    "    def message(self, x_j, edge_index, size):\n",
    "        # x_j has shape [E, out_channels]\n",
    "        # edge_index has shape [2, E]\n",
    "\n",
    "        # Step 3: Normalize node features.\n",
    "        row, col = edge_index  # [E,], [E,]\n",
    "        deg = degree(row, size[0], dtype=x_j.dtype)  # [N, ]\n",
    "        deg_inv_sqrt = deg.pow(-0.5)   # [N, ]\n",
    "        norm = deg_inv_sqrt[row] * deg_inv_sqrt[col]  # [E, ]\n",
    "\n",
    "        return norm.view(-1, 1) * x_j\n",
    "\n",
    "    def update(self, aggr_out):\n",
    "        # aggr_out has shape [N, out_channels]\n",
    "\n",
    "        # Step 5: Return new node embeddings.\n",
    "        return aggr_out"
   ]
  },
  {
   "cell_type": "code",
   "execution_count": 7,
   "metadata": {},
   "outputs": [],
   "source": [
    "'''\n",
    "构建模型，使用两层GCN，第一层GCN使得节点矩阵\n",
    "        (N, in_channel) -> (N, 16)\n",
    "第二层GCN使得节点矩阵\n",
    "        (N, 16) -> (N, num_class)\n",
    "激活函数使用relu函数，网络最后对节点的各类别score使用softmax归一化，\n",
    "返回归一化后的Tensor。\n",
    "'''\n",
    "class Net(torch.nn.Module):\n",
    "    def __init__(self, feat_dim, num_class):\n",
    "        super(Net, self).__init__()\n",
    "        self.conv1 = GCNConv(feat_dim, 16)\n",
    "        self.conv2 = GCNConv(16, num_class)\n",
    "\n",
    "    def forward(self, data):\n",
    "        x, edge_index = data.x, data.edge_index\n",
    "\n",
    "        x = self.conv1(x, edge_index)\n",
    "        x = F.relu(x)\n",
    "        x = F.dropout(x, training=self.training)\n",
    "        x = self.conv2(x, edge_index)\n",
    "\n",
    "        return F.log_softmax(x, dim=1)"
   ]
  },
  {
   "cell_type": "code",
   "execution_count": null,
   "metadata": {
    "scrolled": true
   },
   "outputs": [],
   "source": [
    "'''\n",
    "开始训练模型\n",
    "'''\n",
    "device = torch.device('cuda' if torch.cuda.is_available() else 'cpu')\n",
    "model = Net(feat_dim=data.num_node_features, num_class=7).to(device)         # Initialize model\n",
    "data = data.to(device)                                                       \n",
    "optimizer = torch.optim.Adam(model.parameters(), lr=0.01, weight_decay=5e-4) # Initialize optimizer and training params\n",
    "\n",
    "for epoch in range(200):\n",
    "    model.train()\n",
    "    optimizer.zero_grad()\n",
    "    # Get output\n",
    "    out = model(data)\n",
    "    \n",
    "    # Get loss\n",
    "    loss = F.nll_loss(out[data.train_mask], data.y[data.train_mask])\n",
    "    _, pred = out.max(dim=1)\n",
    "    \n",
    "    # Get predictions and calculate training accuracy\n",
    "    correct = float(torch.masked_select(pred, data.train_mask.byte()).eq(torch.masked_select(data.y, data.train_mask.byte())).sum().item())\n",
    "    acc = correct / data.train_mask.sum().item()\n",
    "    print('[Epoch {}/200] Loss {:.4f}, train acc {:.4f}'.format(epoch, loss.cpu().detach().data.item(), acc))\n",
    "    \n",
    "    # Backward\n",
    "    loss.backward()\n",
    "    optimizer.step()\n",
    "    \n",
    "    # Evaluation on test data every 10 epochs\n",
    "    if (epoch+1) % 10 == 0:\n",
    "        model.eval()\n",
    "        _, pred = model(data).max(dim=1)\n",
    "        correct = float(pred[data.test_mask.byte()].eq(data.y[data.test_mask.byte()]).sum().item())\n",
    "        acc = correct / data.test_mask.sum().item()\n",
    "        print('Accuracy: {:.4f}'.format(acc))"
   ]
  }
 ],
 "metadata": {
  "kernelspec": {
   "display_name": "Python 3",
   "language": "python",
   "name": "python3"
  },
  "language_info": {
   "codemirror_mode": {
    "name": "ipython",
    "version": 3
   },
   "file_extension": ".py",
   "mimetype": "text/x-python",
   "name": "python",
   "nbconvert_exporter": "python",
   "pygments_lexer": "ipython3",
   "version": "3.6.4"
  },
  "toc": {
   "base_numbering": 1,
   "nav_menu": {},
   "number_sections": true,
   "sideBar": true,
   "skip_h1_title": false,
   "title_cell": "Table of Contents",
   "title_sidebar": "Contents",
   "toc_cell": false,
   "toc_position": {},
   "toc_section_display": true,
   "toc_window_display": false
  }
 },
 "nbformat": 4,
 "nbformat_minor": 2
}
